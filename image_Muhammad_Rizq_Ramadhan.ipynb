{
  "nbformat": 4,
  "nbformat_minor": 0,
  "metadata": {
    "colab": {
      "provenance": []
    },
    "kernelspec": {
      "name": "python3",
      "display_name": "Python 3"
    },
    "language_info": {
      "name": "python"
    }
  },
  "cells": [
    {
      "cell_type": "code",
      "execution_count": 1,
      "metadata": {
        "id": "Ps3zxDAU5o29",
        "colab": {
          "base_uri": "https://localhost:8080/"
        },
        "outputId": "74df4683-a5aa-4500-9641-a4c4da67e04e"
      },
      "outputs": [
        {
          "output_type": "stream",
          "name": "stdout",
          "text": [
            "Mounted at /content/drive\n"
          ]
        }
      ],
      "source": [
        "import os\n",
        "from google.colab import drive\n",
        "drive.mount('/content/drive')\n",
        "\n",
        "import tensorflow as tf\n",
        "from tensorflow.keras.models import Sequential\n",
        "from tensorflow.keras.layers import Conv2D, MaxPooling2D, Dropout, Dense, Flatten\n",
        "from tensorflow.keras.preprocessing.image import ImageDataGenerator\n",
        "\n",
        "import matplotlib.pyplot as plt"
      ]
    },
    {
      "cell_type": "code",
      "source": [
        "pip install split-folders"
      ],
      "metadata": {
        "colab": {
          "base_uri": "https://localhost:8080/"
        },
        "id": "jFZxm91ivlzn",
        "outputId": "f76ba5ed-2e31-4adf-9070-c018933b7af0"
      },
      "execution_count": 2,
      "outputs": [
        {
          "output_type": "stream",
          "name": "stdout",
          "text": [
            "Collecting split-folders\n",
            "  Downloading split_folders-0.5.1-py3-none-any.whl (8.4 kB)\n",
            "Installing collected packages: split-folders\n",
            "Successfully installed split-folders-0.5.1\n"
          ]
        }
      ]
    },
    {
      "cell_type": "code",
      "source": [
        "import splitfolders"
      ],
      "metadata": {
        "id": "vi7xBB0pvqS-"
      },
      "execution_count": 3,
      "outputs": []
    },
    {
      "cell_type": "code",
      "source": [
        "bus_dir = os.path.join('/content/drive/MyDrive/dataset/bus')\n",
        "plane_dir = os.path.join('/content/drive/MyDrive/dataset/plane')\n",
        "ship_dir = os.path.join('/content/drive/MyDrive/dataset/ship')"
      ],
      "metadata": {
        "id": "NbAGji64GgZB"
      },
      "execution_count": 4,
      "outputs": []
    },
    {
      "cell_type": "code",
      "source": [
        "bus = os.listdir(bus_dir)\n",
        "plane = os.listdir(plane_dir)\n",
        "ship = os.listdir(ship_dir)"
      ],
      "metadata": {
        "id": "VVeoPt90HBsg"
      },
      "execution_count": 5,
      "outputs": []
    },
    {
      "cell_type": "code",
      "source": [
        "print('total training bus images:', len(bus))\n",
        "print('total training plane images:', len(plane))\n",
        "print('total training ship images:', len(ship))"
      ],
      "metadata": {
        "id": "nmuKO-7uHDiR",
        "colab": {
          "base_uri": "https://localhost:8080/"
        },
        "outputId": "51a4b865-8dd9-46b2-8ac2-3cacfe0c5c3d"
      },
      "execution_count": 6,
      "outputs": [
        {
          "output_type": "stream",
          "name": "stdout",
          "text": [
            "total training bus images: 1721\n",
            "total training plane images: 1611\n",
            "total training ship images: 992\n"
          ]
        }
      ]
    },
    {
      "cell_type": "code",
      "source": [
        "print('total dataset: ', len(bus) + len(plane) + len(ship))"
      ],
      "metadata": {
        "colab": {
          "base_uri": "https://localhost:8080/"
        },
        "id": "S4Cz2XBaI4Lw",
        "outputId": "51934267-667b-4cea-e95f-989820110a40"
      },
      "execution_count": 7,
      "outputs": [
        {
          "output_type": "stream",
          "name": "stdout",
          "text": [
            "total dataset:  4324\n"
          ]
        }
      ]
    },
    {
      "cell_type": "code",
      "source": [
        "base_dir = '/content/drive/MyDrive/dataset'\n",
        "splitfolders.ratio(base_dir, output=f'{base_dir}/split', seed=42, ratio=(0.8, 0.2), group_prefix=None)"
      ],
      "metadata": {
        "colab": {
          "base_uri": "https://localhost:8080/"
        },
        "id": "_W9hbwHkIzmg",
        "outputId": "86daa246-9521-4928-b546-d95dac5124d5"
      },
      "execution_count": 8,
      "outputs": [
        {
          "output_type": "stream",
          "name": "stderr",
          "text": [
            "Copying files: 4324 files [04:03, 17.75 files/s]\n"
          ]
        }
      ]
    },
    {
      "cell_type": "code",
      "source": [
        "model = Sequential([\n",
        "    Conv2D(16, (3,3), activation='relu', input_shape=(300,300,3)),\n",
        "    MaxPooling2D(2,2),\n",
        "    Conv2D(32, (3,3), activation='relu'),\n",
        "    MaxPooling2D(2,2),\n",
        "    Dropout(0.2),\n",
        "    Conv2D(64, (3,3), activation='relu'),\n",
        "    MaxPooling2D(2,2),\n",
        "    Dropout(0.5),\n",
        "    Conv2D(64, (3,3), activation='relu'),\n",
        "    MaxPooling2D(2,2),\n",
        "    Conv2D(128, (3,3), activation='relu'),\n",
        "    MaxPooling2D(2,2),\n",
        "    Flatten(),\n",
        "    Dense(512, activation='relu'),\n",
        "    Dense(3, activation='softmax')\n",
        "])\n",
        "\n",
        "model.summary()"
      ],
      "metadata": {
        "id": "pDSUIwcGJaVJ",
        "colab": {
          "base_uri": "https://localhost:8080/"
        },
        "outputId": "425dc446-1d71-4eab-ae3f-a48a7b7df576"
      },
      "execution_count": 15,
      "outputs": [
        {
          "output_type": "stream",
          "name": "stdout",
          "text": [
            "Model: \"sequential_1\"\n",
            "_________________________________________________________________\n",
            " Layer (type)                Output Shape              Param #   \n",
            "=================================================================\n",
            " conv2d_4 (Conv2D)           (None, 298, 298, 16)      448       \n",
            "                                                                 \n",
            " max_pooling2d_4 (MaxPoolin  (None, 149, 149, 16)      0         \n",
            " g2D)                                                            \n",
            "                                                                 \n",
            " conv2d_5 (Conv2D)           (None, 147, 147, 32)      4640      \n",
            "                                                                 \n",
            " max_pooling2d_5 (MaxPoolin  (None, 73, 73, 32)        0         \n",
            " g2D)                                                            \n",
            "                                                                 \n",
            " dropout_2 (Dropout)         (None, 73, 73, 32)        0         \n",
            "                                                                 \n",
            " conv2d_6 (Conv2D)           (None, 71, 71, 64)        18496     \n",
            "                                                                 \n",
            " max_pooling2d_6 (MaxPoolin  (None, 35, 35, 64)        0         \n",
            " g2D)                                                            \n",
            "                                                                 \n",
            " dropout_3 (Dropout)         (None, 35, 35, 64)        0         \n",
            "                                                                 \n",
            " conv2d_7 (Conv2D)           (None, 33, 33, 64)        36928     \n",
            "                                                                 \n",
            " max_pooling2d_7 (MaxPoolin  (None, 16, 16, 64)        0         \n",
            " g2D)                                                            \n",
            "                                                                 \n",
            " conv2d_8 (Conv2D)           (None, 14, 14, 128)       73856     \n",
            "                                                                 \n",
            " max_pooling2d_8 (MaxPoolin  (None, 7, 7, 128)         0         \n",
            " g2D)                                                            \n",
            "                                                                 \n",
            " flatten_1 (Flatten)         (None, 6272)              0         \n",
            "                                                                 \n",
            " dense_2 (Dense)             (None, 512)               3211776   \n",
            "                                                                 \n",
            " dense_3 (Dense)             (None, 3)                 1539      \n",
            "                                                                 \n",
            "=================================================================\n",
            "Total params: 3347683 (12.77 MB)\n",
            "Trainable params: 3347683 (12.77 MB)\n",
            "Non-trainable params: 0 (0.00 Byte)\n",
            "_________________________________________________________________\n"
          ]
        }
      ]
    },
    {
      "cell_type": "code",
      "source": [
        "train_datagen = ImageDataGenerator(\n",
        "    rescale=1/255,\n",
        "    rotation_range=40,\n",
        "    width_shift_range=0.2,\n",
        "    height_shift_range=0.2,\n",
        "    shear_range=0.2,\n",
        "    zoom_range=0.2,\n",
        "    horizontal_flip=True,\n",
        "    fill_mode='nearest')\n",
        "\n",
        "val_datagen = ImageDataGenerator(rescale=1/255)"
      ],
      "metadata": {
        "id": "hU-CQm7LK-tA"
      },
      "execution_count": 10,
      "outputs": []
    },
    {
      "cell_type": "code",
      "source": [
        "train = '/content/drive/MyDrive/dataset/split/train'\n",
        "val = '/content/drive/MyDrive/dataset/split/val'\n",
        "\n",
        "train_generator = train_datagen.flow_from_directory(\n",
        "    train,\n",
        "    target_size=(300,300),\n",
        "    batch_size=32,\n",
        "    class_mode='categorical'\n",
        ")\n",
        "\n",
        "validation_generator = val_datagen.flow_from_directory(\n",
        "    val,\n",
        "    target_size=(300,300),\n",
        "    batch_size=32,\n",
        "    class_mode='categorical'\n",
        ")"
      ],
      "metadata": {
        "id": "mJ9h8jsDLEjY",
        "colab": {
          "base_uri": "https://localhost:8080/"
        },
        "outputId": "f9f366ac-a7df-4ea0-c770-199f36d4533f"
      },
      "execution_count": 11,
      "outputs": [
        {
          "output_type": "stream",
          "name": "stdout",
          "text": [
            "Found 3453 images belonging to 3 classes.\n",
            "Found 866 images belonging to 3 classes.\n"
          ]
        }
      ]
    },
    {
      "cell_type": "code",
      "source": [
        "class myCallback(tf.keras.callbacks.Callback):\n",
        "  def on_epoch_end(self, epoch, logs={}):\n",
        "    if (logs.get('accuracy') > 0.85 and logs.get('val_accuracy') > 0.85):\n",
        "      print(\"\\nAkurasi telah melebihi 85%!\")\n",
        "      self.model.stop_training = True\n",
        "\n",
        "callbacks = myCallback()"
      ],
      "metadata": {
        "id": "OzWWb80aMMzF"
      },
      "execution_count": 12,
      "outputs": []
    },
    {
      "cell_type": "code",
      "source": [
        "model.compile(loss='categorical_crossentropy',\n",
        "              optimizer='adam',\n",
        "              metrics=['accuracy'])"
      ],
      "metadata": {
        "id": "w6oj3iCRL-Li"
      },
      "execution_count": 16,
      "outputs": []
    },
    {
      "cell_type": "code",
      "source": [
        "history = model.fit(\n",
        "    train_generator,\n",
        "    steps_per_epoch=32,\n",
        "    epochs=50,\n",
        "    batch_size=70,\n",
        "    validation_data=validation_generator,\n",
        "    validation_steps=8,\n",
        "    verbose=1,\n",
        "    callbacks=[callbacks]\n",
        ")"
      ],
      "metadata": {
        "id": "SV476HnGMB7l",
        "colab": {
          "base_uri": "https://localhost:8080/"
        },
        "outputId": "42fcc40a-42d1-45e8-be0d-593bec4835ba"
      },
      "execution_count": 18,
      "outputs": [
        {
          "output_type": "stream",
          "name": "stdout",
          "text": [
            "Epoch 1/50\n",
            "32/32 [==============================] - 163s 5s/step - loss: 1.0882 - accuracy: 0.3683 - val_loss: 1.0829 - val_accuracy: 0.3711\n",
            "Epoch 2/50\n",
            "32/32 [==============================] - 160s 5s/step - loss: 0.9973 - accuracy: 0.4102 - val_loss: 1.0551 - val_accuracy: 0.4062\n",
            "Epoch 3/50\n",
            "32/32 [==============================] - 175s 5s/step - loss: 0.9113 - accuracy: 0.5469 - val_loss: 0.6572 - val_accuracy: 0.6836\n",
            "Epoch 4/50\n",
            "32/32 [==============================] - 163s 5s/step - loss: 0.7864 - accuracy: 0.6279 - val_loss: 0.6355 - val_accuracy: 0.7188\n",
            "Epoch 5/50\n",
            "32/32 [==============================] - 167s 5s/step - loss: 0.6802 - accuracy: 0.6846 - val_loss: 0.4434 - val_accuracy: 0.8359\n",
            "Epoch 6/50\n",
            "32/32 [==============================] - 176s 5s/step - loss: 0.6552 - accuracy: 0.6982 - val_loss: 0.4978 - val_accuracy: 0.8281\n",
            "Epoch 7/50\n",
            "32/32 [==============================] - 165s 5s/step - loss: 0.5598 - accuracy: 0.7607 - val_loss: 0.3473 - val_accuracy: 0.8633\n",
            "Epoch 8/50\n",
            "32/32 [==============================] - 165s 5s/step - loss: 0.5786 - accuracy: 0.7734 - val_loss: 0.4286 - val_accuracy: 0.8164\n",
            "Epoch 9/50\n",
            "32/32 [==============================] - 172s 5s/step - loss: 0.5350 - accuracy: 0.7698 - val_loss: 0.3214 - val_accuracy: 0.8711\n",
            "Epoch 10/50\n",
            "32/32 [==============================] - 165s 5s/step - loss: 0.4187 - accuracy: 0.8398 - val_loss: 0.2951 - val_accuracy: 0.9102\n",
            "Epoch 11/50\n",
            "32/32 [==============================] - 168s 5s/step - loss: 0.4711 - accuracy: 0.8008 - val_loss: 0.2591 - val_accuracy: 0.9258\n",
            "Epoch 12/50\n",
            "32/32 [==============================] - 171s 5s/step - loss: 0.4098 - accuracy: 0.8374 - val_loss: 0.3112 - val_accuracy: 0.8750\n",
            "Epoch 13/50\n",
            "32/32 [==============================] - ETA: 0s - loss: 0.3848 - accuracy: 0.8521\n",
            "Akurasi telah melebihi 85%!\n",
            "32/32 [==============================] - 162s 5s/step - loss: 0.3848 - accuracy: 0.8521 - val_loss: 0.2956 - val_accuracy: 0.9062\n"
          ]
        }
      ]
    },
    {
      "cell_type": "code",
      "source": [
        "plt.plot(history.history['accuracy'], label='Training Accuracy')\n",
        "plt.plot(history.history['val_accuracy'], label='Validation Accuracy')\n",
        "plt.title('Accuracy Metrics')\n",
        "plt.legend()\n",
        "plt.show()"
      ],
      "metadata": {
        "id": "6h-9fErpfrSG",
        "colab": {
          "base_uri": "https://localhost:8080/",
          "height": 452
        },
        "outputId": "7c57a38a-3394-4025-e7f3-823461267ff0"
      },
      "execution_count": 19,
      "outputs": [
        {
          "output_type": "display_data",
          "data": {
            "text/plain": [
              "<Figure size 640x480 with 1 Axes>"
            ],
            "image/png": "[encoded data removed]"
          },
          "metadata": {}
        }
      ]
    },
    {
      "cell_type": "code",
      "source": [
        "plt.plot(history.history['loss'], label='Loss Accuracy')\n",
        "plt.plot(history.history['val_loss'], label='Loss Validation')\n",
        "plt.title('Loss Metrics')\n",
        "plt.legend()\n",
        "plt.show()"
      ],
      "metadata": {
        "id": "ENJXg-RLfsjJ",
        "colab": {
          "base_uri": "https://localhost:8080/",
          "height": 452
        },
        "outputId": "7866101e-4806-4e99-f8cd-cafb54827bcd"
      },
      "execution_count": 20,
      "outputs": [
        {
          "output_type": "display_data",
          "data": {
            "text/plain": [
              "<Figure size 640x480 with 1 Axes>"
            ],
            "image/png": "[encoded data removed]"
          },
          "metadata": {}
        }
      ]
    },
    {
      "cell_type": "code",
      "source": [
        "export_dir = \"/content/drive/MyDrive/dataset\"\n",
        "tf.saved_model.save(model, export_dir)\n",
        "\n",
        "converter = tf.lite.TFLiteConverter.from_saved_model(export_dir)\n",
        "tflite_model = converter.convert()\n",
        "\n",
        "with tf.io.gfile.GFile('submission.tflite', 'wb') as f:\n",
        "    f.write(tflite_model)"
      ],
      "metadata": {
        "id": "iuwXmY30g-La"
      },
      "execution_count": 21,
      "outputs": []
    }
  ]
}